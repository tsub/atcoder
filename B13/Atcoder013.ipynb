{
 "metadata": {
  "name": "",
  "signature": "sha256:082b81150b0f4c612ddf53f5138d0ca1fc9b6711bb30e97cf81989e333c510bb"
 },
 "nbformat": 3,
 "nbformat_minor": 0,
 "worksheets": [
  {
   "cells": [
    {
     "cell_type": "markdown",
     "metadata": {},
     "source": [
      "#A\u554f\u984c"
     ]
    },
    {
     "cell_type": "code",
     "collapsed": false,
     "input": [
      "alphabets = [\"A\", \"B\", \"C\", \"D\", \"E\"]\n",
      "\n",
      "input = raw_input()\n",
      "\n",
      "for i in range(len(alphabets)):\n",
      "    if alphabets[i] == input:\n",
      "        print i+1"
     ],
     "language": "python",
     "metadata": {},
     "outputs": []
    },
    {
     "cell_type": "code",
     "collapsed": false,
     "input": [
      "print [\"A\", \"B\", \"C\", \"D\", \"E\"].index(raw_input()) + 1"
     ],
     "language": "python",
     "metadata": {},
     "outputs": []
    },
    {
     "cell_type": "markdown",
     "metadata": {},
     "source": [
      "#B\u554f\u984c"
     ]
    },
    {
     "cell_type": "code",
     "collapsed": false,
     "input": [
      "A = int(raw_input())\n",
      "B = int(raw_input())\n",
      "\n",
      "l = [A, B]\n",
      "\n",
      "if (max(l) - min(l)) >= 5:\n",
      "  print 10 - max(l) + min(l)\n",
      "else:\n",
      "  print max(l) - min(l)"
     ],
     "language": "python",
     "metadata": {},
     "outputs": []
    },
    {
     "cell_type": "code",
     "collapsed": false,
     "input": [
      "diff = abs(int(raw_input()) - int(raw_input()))\n",
      "print 10 - diff if diff >= 5 else diff"
     ],
     "language": "python",
     "metadata": {},
     "outputs": []
    },
    {
     "cell_type": "markdown",
     "metadata": {},
     "source": [
      "#C\u554f\u984c"
     ]
    },
    {
     "cell_type": "code",
     "collapsed": false,
     "input": [
      "N, H = raw_input().split()\n",
      "A, B, C, D, E = raw_input().split()\n",
      "expences = 0\n",
      "\n",
      "N = int(N)\n",
      "H = int(H)\n",
      "A = int(A)\n",
      "B = int(B)\n",
      "C = int(C)\n",
      "D = int(D)\n",
      "E = int(E)\n",
      "\n",
      "while N > 0:\n",
      "  if H > E:\n",
      "    H -= E\n",
      "\n",
      "  elif N == 1:\n",
      "    H += D\n",
      "    expences += C\n",
      "\n",
      "  elif D + H > E:\n",
      "    H += D\n",
      "    expences += C\n",
      "\n",
      "  elif B + H > E:\n",
      "    H += B\n",
      "    expences += A\n",
      "\n",
      "  else:\n",
      "    H += D\n",
      "    expences += C\n",
      "\n",
      "  N -= 1\n",
      "\n",
      "print expences"
     ],
     "language": "python",
     "metadata": {},
     "outputs": [
      {
       "name": "stdout",
       "output_type": "stream",
       "stream": "stdout",
       "text": [
        "9 23\n"
       ]
      },
      {
       "name": "stdout",
       "output_type": "stream",
       "stream": "stdout",
       "text": [
        "170 8 120 5 12\n"
       ]
      },
      {
       "output_type": "stream",
       "stream": "stdout",
       "text": [
        "650\n"
       ]
      }
     ],
     "prompt_number": 3
    },
    {
     "cell_type": "code",
     "collapsed": false,
     "input": [],
     "language": "python",
     "metadata": {},
     "outputs": []
    },
    {
     "cell_type": "code",
     "collapsed": false,
     "input": [],
     "language": "python",
     "metadata": {},
     "outputs": []
    },
    {
     "cell_type": "code",
     "collapsed": false,
     "input": [],
     "language": "python",
     "metadata": {},
     "outputs": []
    }
   ],
   "metadata": {}
  }
 ]
}