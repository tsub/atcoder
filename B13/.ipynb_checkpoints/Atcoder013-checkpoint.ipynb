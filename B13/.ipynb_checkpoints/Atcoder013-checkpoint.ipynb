{
 "metadata": {
  "name": "",
  "signature": "sha256:be5ba116906eb7957966c905aa1caad829942a1c7973407eece6f9c42780f226"
 },
 "nbformat": 3,
 "nbformat_minor": 0,
 "worksheets": [
  {
   "cells": [
    {
     "cell_type": "markdown",
     "metadata": {},
     "source": [
      "# C\u554f\u984c"
     ]
    },
    {
     "cell_type": "code",
     "collapsed": false,
     "input": [
      "N, H = raw_input().split()\n",
      "A, B, C, D, E = raw_input().split()\n",
      "expences = 0\n",
      "\n",
      "N = int(N)\n",
      "H = int(H)\n",
      "A = int(A)\n",
      "B = int(B)\n",
      "C = int(C)\n",
      "D = int(D)\n",
      "E = int(E)\n",
      "\n",
      "while N > 0:\n",
      "  if H > E:\n",
      "    H -= E\n",
      "\n",
      "  elif N == 1:\n",
      "    H += D\n",
      "    expences += C\n",
      "\n",
      "  elif D + H > E:\n",
      "    H += D\n",
      "    expences += C\n",
      "\n",
      "  elif B + H > E:\n",
      "    H += B\n",
      "    expences += A\n",
      "\n",
      "  else:\n",
      "    H += D\n",
      "    expences += C\n",
      "\n",
      "  N -= 1\n",
      "\n",
      "print expences"
     ],
     "language": "python",
     "metadata": {},
     "outputs": [
      {
       "name": "stdout",
       "output_type": "stream",
       "stream": "stdout",
       "text": [
        "9 23\n"
       ]
      },
      {
       "name": "stdout",
       "output_type": "stream",
       "stream": "stdout",
       "text": [
        "170 8 120 5 12\n"
       ]
      },
      {
       "output_type": "stream",
       "stream": "stdout",
       "text": [
        "650\n"
       ]
      }
     ],
     "prompt_number": 3
    },
    {
     "cell_type": "code",
     "collapsed": false,
     "input": [],
     "language": "python",
     "metadata": {},
     "outputs": []
    },
    {
     "cell_type": "code",
     "collapsed": false,
     "input": [],
     "language": "python",
     "metadata": {},
     "outputs": []
    },
    {
     "cell_type": "code",
     "collapsed": false,
     "input": [],
     "language": "python",
     "metadata": {},
     "outputs": []
    }
   ],
   "metadata": {}
  }
 ]
}